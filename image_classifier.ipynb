{
 "cells": [
  {
   "cell_type": "code",
   "execution_count": 1,
   "metadata": {},
   "outputs": [],
   "source": [
    "from helper.image_preprocessing import ImagePreprocessing\n",
    "from helper.image_datasetloader import DatasetLoader\n",
    "from imutils import paths\n",
    "import os\n"
   ]
  },
  {
   "cell_type": "markdown",
   "metadata": {},
   "source": [
    "# Load Dataset"
   ]
  },
  {
   "cell_type": "code",
   "execution_count": 2,
   "metadata": {},
   "outputs": [],
   "source": [
    "image_paths = list(paths.list_images(\"./dataset\"))"
   ]
  },
  {
   "cell_type": "markdown",
   "metadata": {},
   "source": [
    "# Preprocessing\n",
    "initialize the image preprocessor, load the dataset from disk,\n",
    "and reshape the data matrix"
   ]
  },
  {
   "cell_type": "code",
   "execution_count": 3,
   "metadata": {},
   "outputs": [
    {
     "name": "stdout",
     "output_type": "stream",
     "text": [
      "[INFO] processed 10/43\n",
      "[INFO] processed 20/43\n",
      "[INFO] processed 30/43\n",
      "[INFO] processed 40/43\n"
     ]
    }
   ],
   "source": [
    "preprocessing_conf = ImagePreprocessing(width=32,heigh=32)\n",
    "dataset_loader = DatasetLoader(preprocessors=[preprocessing_conf])\n",
    "(train_data,train_labels) = dataset_loader.load(imagePaths=image_paths,verbose=10)\n",
    "train_data = train_data.reshape((train_data.shape[0],train_data.shape[1]*train_data.shape[2]*train_data.shape[3]))"
   ]
  },
  {
   "cell_type": "markdown",
   "metadata": {},
   "source": [
    "## Label Encoding"
   ]
  },
  {
   "cell_type": "code",
   "execution_count": 4,
   "metadata": {},
   "outputs": [
    {
     "data": {
      "text/plain": [
       "({0, 1, 2, 3}, {'babi', 'buaya', 'gajah', 'kucing'})"
      ]
     },
     "execution_count": 4,
     "metadata": {},
     "output_type": "execute_result"
    }
   ],
   "source": [
    "from sklearn.preprocessing import LabelEncoder\n",
    "from sklearn.metrics import accuracy_score,auc\n",
    "\n",
    "label_model = LabelEncoder()\n",
    "n_labels = label_model.fit_transform(train_labels)\n",
    "set(n_labels),set(train_labels)"
   ]
  },
  {
   "cell_type": "markdown",
   "metadata": {},
   "source": [
    "## Train Model"
   ]
  },
  {
   "cell_type": "code",
   "execution_count": 5,
   "metadata": {},
   "outputs": [
    {
     "name": "stdout",
     "output_type": "stream",
     "text": [
      "Score : 0.7441860465116279\n"
     ]
    }
   ],
   "source": [
    "from sklearn.neighbors import KNeighborsClassifier\n",
    "\n",
    "model = KNeighborsClassifier()\n",
    "trained_model =  model.fit(X=train_data,y=train_labels)\n",
    "print(\"Score : {}\".format(trained_model.score(X=train_data,y=train_labels)))"
   ]
  },
  {
   "cell_type": "code",
   "execution_count": 6,
   "metadata": {},
   "outputs": [
    {
     "name": "stdout",
     "output_type": "stream",
     "text": [
      "Accuracy : 0.7441860465116279\n"
     ]
    }
   ],
   "source": [
    "from sklearn.metrics import accuracy_score\n",
    "\n",
    "y_predict = trained_model.predict(train_data)\n",
    "acc = accuracy_score(y_pred=y_predict,y_true=train_labels)\n",
    "print(\"Accuracy : {}\".format(acc))"
   ]
  },
  {
   "cell_type": "markdown",
   "metadata": {},
   "source": [
    "# Test Model"
   ]
  },
  {
   "cell_type": "code",
   "execution_count": 7,
   "metadata": {},
   "outputs": [
    {
     "name": "stdout",
     "output_type": "stream",
     "text": [
      "./dataset/gajah/Gajah_008.jpg - Should Be : gajah \n",
      "--> Predicted ['kucing'] \n"
     ]
    }
   ],
   "source": [
    "image_path = image_paths[42]\n",
    "true_label = image_path.split(os.path.sep)[-2]\n",
    "\n",
    "image_path,true_label\n",
    "\n",
    "(testdata,labels) = dataset_loader.load([image_path])\n",
    "testdata = testdata.reshape((testdata.shape[0],testdata.shape[1]*testdata.shape[2]*testdata.shape[3]))\n",
    "\n",
    "predicted = trained_model.predict(testdata)\n",
    "# predicted = label_model.inverse_transform(predicted)[0]\n",
    "print(\"{} - Should Be : {} \\n--> Predicted {} \".format(image_path,true_label,predicted))"
   ]
  }
 ],
 "metadata": {
  "interpreter": {
   "hash": "94d2063795893914555676d2bfd7c772eea80561483384a95a21359735b7363c"
  },
  "kernelspec": {
   "display_name": "Python 3.9.10 ('venv': venv)",
   "language": "python",
   "name": "python3"
  },
  "language_info": {
   "codemirror_mode": {
    "name": "ipython",
    "version": 3
   },
   "file_extension": ".py",
   "mimetype": "text/x-python",
   "name": "python",
   "nbconvert_exporter": "python",
   "pygments_lexer": "ipython3",
   "version": "3.9.10"
  },
  "orig_nbformat": 4
 },
 "nbformat": 4,
 "nbformat_minor": 2
}
