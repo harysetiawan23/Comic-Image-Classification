{
 "cells": [
  {
   "cell_type": "code",
   "execution_count": 10,
   "metadata": {},
   "outputs": [],
   "source": [
    "from helper.image_datasetloader import DatasetLoader\n",
    "from helper.image_preprocessing import ImagePreprocessing,HSVPreprocessing\n",
    "from imutils import paths\n",
    "import numpy as np\n",
    "import matplotlib.pyplot as plt\n",
    "import os\n"
   ]
  },
  {
   "cell_type": "markdown",
   "metadata": {},
   "source": [
    "# Load Dataset"
   ]
  },
  {
   "cell_type": "code",
   "execution_count": 11,
   "metadata": {},
   "outputs": [],
   "source": [
    "train_image_paths = list(paths.list_images(\"./raw/train\"))\n",
    "test_image_paths = list(paths.list_images(\"./raw/test\"))"
   ]
  },
  {
   "cell_type": "markdown",
   "metadata": {},
   "source": [
    "# Preprocessing\n",
    "initialize the image preprocessor, load the dataset from disk,\n",
    "and reshape the data matrix"
   ]
  },
  {
   "cell_type": "code",
   "execution_count": 12,
   "metadata": {},
   "outputs": [
    {
     "name": "stdout",
     "output_type": "stream",
     "text": [
      "[INFO] processed 10/33\n",
      "[INFO] processed 20/33\n",
      "[INFO] processed 30/33\n",
      "[INFO] processed 10/10\n"
     ]
    }
   ],
   "source": [
    "preprocessing_conf = HSVPreprocessing(width=32,heigh=32)\n",
    "train_dataset = DatasetLoader(preprocessors=[preprocessing_conf])\n",
    "test_dataset = DatasetLoader(preprocessors=[preprocessing_conf])\n",
    "(train_data,train_labels) = train_dataset.load(imagePaths=train_image_paths,verbose=10)\n",
    "(test_data,test_labels) = test_dataset.load(imagePaths=test_image_paths,verbose=10)\n",
    "train_data = train_data.reshape((train_data.shape[0],train_data.shape[1]*train_data.shape[2]*train_data.shape[3]))\n",
    "test_data = test_data.reshape((test_data.shape[0],test_data.shape[1]*test_data.shape[2]*test_data.shape[3]))"
   ]
  },
  {
   "cell_type": "markdown",
   "metadata": {},
   "source": [
    "## Train Model"
   ]
  },
  {
   "cell_type": "code",
   "execution_count": 13,
   "metadata": {},
   "outputs": [
    {
     "name": "stdout",
     "output_type": "stream",
     "text": [
      "Score : 0.9\n"
     ]
    }
   ],
   "source": [
    "from sklearn.neighbors import KNeighborsClassifier\n",
    "\n",
    "model = KNeighborsClassifier()\n",
    "trained_model =  model.fit(X=train_data,y=train_labels)\n",
    "print(\"Score : {}\".format(trained_model.score(X=test_data,y=test_labels)))"
   ]
  },
  {
   "cell_type": "code",
   "execution_count": 15,
   "metadata": {},
   "outputs": [
    {
     "name": "stdout",
     "output_type": "stream",
     "text": [
      "Accuracy : 0.9\n"
     ]
    }
   ],
   "source": [
    "from sklearn.metrics import accuracy_score\n",
    "\n",
    "y_predict = trained_model.predict(test_data)\n",
    "acc = accuracy_score(y_pred=y_predict,y_true=test_labels)\n",
    "print(\"Accuracy : {}\".format(acc))"
   ]
  },
  {
   "cell_type": "markdown",
   "metadata": {},
   "source": [
    "# Test Model"
   ]
  },
  {
   "cell_type": "code",
   "execution_count": 16,
   "metadata": {},
   "outputs": [
    {
     "name": "stdout",
     "output_type": "stream",
     "text": [
      "./raw/test/babi/Babi_010.jpg Should be ['babi'] --> Predicted ['babi']\n"
     ]
    }
   ],
   "source": [
    "image_path = test_image_paths[1]\n",
    "preprocessing_conf = HSVPreprocessing(width=32,heigh=32)\n",
    "dataset_loader = DatasetLoader(preprocessors=[preprocessing_conf])\n",
    "(test_datset,test_labels) = dataset_loader.load(imagePaths=[image_path],verbose=10)\n",
    "test_datset = test_datset.reshape((test_datset.shape[0],test_datset.shape[1]*test_datset.shape[2]*test_datset.shape[3]))\n",
    "\n",
    "predicted = trained_model.predict(test_datset)\n",
    "print(\"{} Should be {} --> Predicted {}\".format(image_path,test_labels,predicted))"
   ]
  }
 ],
 "metadata": {
  "interpreter": {
   "hash": "94d2063795893914555676d2bfd7c772eea80561483384a95a21359735b7363c"
  },
  "kernelspec": {
   "display_name": "Python 3.9.10 ('venv': venv)",
   "language": "python",
   "name": "python3"
  },
  "language_info": {
   "codemirror_mode": {
    "name": "ipython",
    "version": 3
   },
   "file_extension": ".py",
   "mimetype": "text/x-python",
   "name": "python",
   "nbconvert_exporter": "python",
   "pygments_lexer": "ipython3",
   "version": "3.9.10"
  },
  "orig_nbformat": 4
 },
 "nbformat": 4,
 "nbformat_minor": 2
}
